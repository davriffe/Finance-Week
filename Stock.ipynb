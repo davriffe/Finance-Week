{
  "nbformat": 4,
  "nbformat_minor": 0,
  "metadata": {
    "colab": {
      "name": "Stock.ipynb",
      "version": "0.3.2",
      "provenance": [],
      "include_colab_link": true
    },
    "kernelspec": {
      "name": "python3",
      "display_name": "Python 3"
    }
  },
  "cells": [
    {
      "cell_type": "markdown",
      "metadata": {
        "id": "view-in-github",
        "colab_type": "text"
      },
      "source": [
        "<a href=\"https://colab.research.google.com/github/davriffe/Finance-Week/blob/master/Stock.ipynb\" target=\"_parent\"><img src=\"https://colab.research.google.com/assets/colab-badge.svg\" alt=\"Open In Colab\"/></a>"
      ]
    },
    {
      "cell_type": "code",
      "metadata": {
        "id": "UManA--3Gq_A",
        "colab_type": "code",
        "colab": {}
      },
      "source": [
        "1 #Matrix math & data Pre-Processing\n",
        "2 import numpy\n",
        "3\n",
        "4 #for data formatting\n",
        "5 import pandas as pd\n",
        "6\n",
        "7 #for plotting\n",
        "8 import matplotlib.pyplot as plt\n",
        "9 import seaborn as sns\n",
        "10 \n",
        "11 sns.set()\n"
      ],
      "execution_count": 0,
      "outputs": []
    },
    {
      "cell_type": "code",
      "metadata": {
        "id": "uJUBaw3cGzIm",
        "colab_type": "code",
        "colab": {}
      },
      "source": [
        ""
      ],
      "execution_count": 0,
      "outputs": []
    }
  ]
}